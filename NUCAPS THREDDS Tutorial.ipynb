{
 "cells": [
  {
   "cell_type": "markdown",
   "id": "3834dff8",
   "metadata": {},
   "source": [
    "# NUCAPS THREDDS Tutorial\n"
   ]
  },
  {
   "cell_type": "markdown",
   "id": "8fd00316",
   "metadata": {},
   "source": [
    "### What is THREDDS?\n",
    "\n",
    "The THREDDS Data Server (TDS) is a web server that provides remote access for scientific datasets. The TDS is developed and supported by Unidata, a division of the University Corporation for Atmospheric Research (UCAR), and is sponsored by the National Science Foundation. THREDDS servers make using scientific data easy. All the files are hosted on the server so there is no need to download files to your local machine. "
   ]
  },
  {
   "cell_type": "markdown",
   "id": "d23b1bf0",
   "metadata": {},
   "source": [
    "### What is NUCAPS? \n",
    "\n",
    "The NOAA Unique Combined Atmospheric Processing System (NUCAPS) operationally produces atmospheric sounding products from the Suomi National-Polar-orbiting Partnership (Suomi NPP), NOAA-20, and MetOp series polar orbiting satellites. From each satellite, NUCAPS provides global, twice-daily scans and is available in near real-time. NUCAPS provides vertical profiles of temperature, humidity, and trace gases such as ozone, methane, and carbon monoxide. Gridded NUCAPS was developed to view NUCAPS data horizontally as well as vertically. "
   ]
  },
  {
   "cell_type": "code",
   "execution_count": null,
   "id": "129a4fe1",
   "metadata": {},
   "outputs": [],
   "source": [
    "# Packages to load for this tutorial\n",
    "import numpy as np                         # To perform array operations\n",
    "import cartopy.crs as ccrs                 # To create map projections for plots\n",
    "import cartopy.feature as cfeature         # To add maps to plots\n",
    "import matplotlib.pyplot as plt            # Main plotting library\n",
    "import xarray as xr                        # For working with netCDF files and large arrays\n",
    "import netCDF4\n",
    "from xml.dom import minidom                # For opening xml files\n",
    "from urllib.request import urlopen, urlretrieve # For opening URL\n",
    "import fnmatch                             # For indexing python lists\n",
    "from datetime import datetime, timedelta   # To work with dates"
   ]
  },
  {
   "cell_type": "code",
   "execution_count": null,
   "id": "59408a33",
   "metadata": {},
   "outputs": [],
   "source": [
    "server_url='https://renucaps.ssec.wisc.edu/'\n",
    "catalog_url='thredds/catalog/conusAll/catalog.xml'\n",
    "url = (server_url + catalog_url)"
   ]
  },
  {
   "cell_type": "code",
   "execution_count": null,
   "id": "e2411dd1",
   "metadata": {},
   "outputs": [],
   "source": [
    " # This function returns a sting of all files currently on the server \n",
    "def get_elements(url, tag_name, attribute_name):\n",
    "  \"\"\"Get elements from an XML file\"\"\"\n",
    "  # usock = urllib2.urlopen(url)\n",
    "  usock = urlopen(url)\n",
    "  xmldoc = minidom.parse(usock)\n",
    "  usock.close()\n",
    "  tags = xmldoc.getElementsByTagName(tag_name)\n",
    "  attributes=[]\n",
    "  for tag in tags:\n",
    "    attribute = tag.getAttribute(attribute_name)\n",
    "    attributes.append(attribute)\n",
    "  return attributes\n",
    "\n",
    "files = get_elements(url,'dataset','urlPath')\n",
    "#Calls the name of the the most recent file currently hosted on the server\n",
    "file = (files[-1])\n",
    "print(file)"
   ]
  },
  {
   "cell_type": "markdown",
   "id": "0f0f016c",
   "metadata": {},
   "source": [
    "Notice the format of the file. The first string of numbers is the date of retrieval in yyyymmdd. The second string indicates the time of retrieval in UTC. If the file reads _\"conusAll/20220704_1730_gridded_nucaps_noaa20_conus.nc\"_  then the data was retreved July 4, 2022 at 1730 UTC from the NOAA-20 satellite over the continental United States."
   ]
  },
  {
   "cell_type": "markdown",
   "id": "60d487ac",
   "metadata": {},
   "source": [
    "The THREDDS Data Server supports a variety of web services. In the previous code block we used the Catalog Services to get an .xml document with the names of all the gridded NUCAPS files currently hosted on the server. In in order to open the files, we will use the OPeNDAP DAP2 data access service. We can access this service by adding the Base URL '/thredds/dodsC/'. The THREDDS service offers other support and Data Access Services. You can read more about the different services [here](https://www.unidata.ucar.edu/software/tds/current/reference/Services.html). "
   ]
  },
  {
   "cell_type": "code",
   "execution_count": null,
   "id": "ddb915af",
   "metadata": {},
   "outputs": [],
   "source": [
    "OPeNDAP = 'thredds/dodsC/'\n",
    "file = (files[-1])\n",
    "#Prints the full URL we will use for OPeNDAP2 access\n",
    "print(server_url+OPeNDAP+file)"
   ]
  },
  {
   "cell_type": "markdown",
   "id": "41d8d310",
   "metadata": {},
   "source": [
    "We can now open the most recent file on the THREDDS server. The xarray package is a flexible and easy to use tool to process multidimensional datasets like Gridded NUCAPS. From the xarray format, the data can easily be converted to NumPy arrays, pandas, or plotted with the Matplotlib package."
   ]
  },
  {
   "cell_type": "code",
   "execution_count": null,
   "id": "377c0a22",
   "metadata": {},
   "outputs": [],
   "source": [
    "nucaps = xr.open_dataset(server_url+OPeNDAP+file, chunks={'time': '100MB'}, decode_times=False)\n",
    "\n",
    "#Converts epoch time to datetime\n",
    "File_DateTime = datetime.utcfromtimestamp(nucaps.time.values[0]).strftime('%Y-%m-%d %H:%M')"
   ]
  },
  {
   "cell_type": "markdown",
   "id": "7632fb62",
   "metadata": {},
   "source": [
    "Below is an example of plotting the xarray dataset with Matplotlib. For this tutorial we will be plotting the Gridded NUCAPS air temperature at 500mb for the most recent file on the server."
   ]
  },
  {
   "cell_type": "code",
   "execution_count": null,
   "id": "89383d28",
   "metadata": {
    "scrolled": true
   },
   "outputs": [],
   "source": [
    "%matplotlib inline\n",
    "plt.figure(figsize=(15, 10))\n",
    "ax = plt.axes(projection=ccrs.PlateCarree())\n",
    "im = nucaps.Temperature_500mb.plot(\n",
    "    ax=ax, transform=ccrs.PlateCarree(), x=\"Longitude\", y=\"Latitude\",\n",
    "    cmap=plt.cm.coolwarm,add_colorbar=True, vmin=250, vmax=275)\n",
    "plt.title(\"Gridded NUCAPS at \" + File_DateTime + \" UTC\")\n",
    "#approximate map extent of CONUS\n",
    "ax.set_extent([-65, -136, 63, 23,])\n",
    "ax.coastlines()\n",
    "plt.show()"
   ]
  },
  {
   "cell_type": "markdown",
   "id": "05008682",
   "metadata": {},
   "source": [
    "You can see the other variables that can be plotted from the list below:"
   ]
  },
  {
   "cell_type": "code",
   "execution_count": null,
   "id": "070340a8",
   "metadata": {},
   "outputs": [],
   "source": [
    "list(nucaps.keys())"
   ]
  },
  {
   "cell_type": "code",
   "execution_count": null,
   "id": "c48711f7",
   "metadata": {},
   "outputs": [],
   "source": [
    "# Produces string of yesterdays date\n",
    "yesterday = '*' + (datetime.strftime(datetime.now() - timedelta(1), '%Y%m%d')) + '*'\n",
    "# Filters the entire list of files for just ones tagged yesterday\n",
    "yesterday_files = fnmatch.filter(files, yesterday)\n"
   ]
  },
  {
   "cell_type": "markdown",
   "id": "3a252cdf",
   "metadata": {},
   "source": [
    "Below is code for a simple animation for seeing all of the retrevals from the previous day. "
   ]
  },
  {
   "cell_type": "code",
   "execution_count": null,
   "id": "7c0a2b0d",
   "metadata": {},
   "outputs": [],
   "source": [
    "%matplotlib\n",
    "\n",
    "plt.figure(figsize=(15, 10))\n",
    "ax = plt.axes(projection=ccrs.PlateCarree())\n",
    "ax.set_extent([-65, -136, 63, 23,])\n",
    "\n",
    "for file in yesterday_files:\n",
    "    ax.cla()\n",
    "    nucaps = xr.open_dataset(server_url+OPeNDAP+file, decode_times=False)\n",
    "    File_DateTime = datetime.utcfromtimestamp(nucaps.time.values[0]).strftime('%Y-%m-%d %H:%M')\n",
    "    im = nucaps.Temperature_500mb.plot(\n",
    "        ax=ax, transform=ccrs.PlateCarree(), x=\"Longitude\", y=\"Latitude\",\n",
    "        cmap=plt.cm.coolwarm,add_colorbar=False, vmin=250, vmax=275)\n",
    "    mappable =  im.axes.collections[0]\n",
    "    cbar1 = plt.colorbar(mappable,label=\"Temperature K\")\n",
    "    plt.title(\"Gridded NUCAPS at \" + File_DateTime + \" UTC\")\n",
    "    ax.set_extent([-65, -136, 63, 23,])\n",
    "    ax.coastlines()\n",
    "    plt.show()\n",
    "    plt.pause(0.5)\n",
    "    cbar1.remove() \n",
    "bar1 = plt.colorbar(mappable,label=\"Temperature K\")"
   ]
  },
  {
   "cell_type": "markdown",
   "id": "bbf1d228",
   "metadata": {},
   "source": [
    "### Acknowledgements\n",
    "\n",
    "We would like to thank the Space Science and Engineering Center (SSEC) at the University of Wisconsin-Madison for hosting the THREDDS server. We would also like to thank the Short-term Prediction Research and Transition Center (SPoRT) at NASA for processing the data.\n",
    "\n",
    "If you would like to read more about NUCAPS click [here](https://weather.msfc.nasa.gov/nucaps/)\n",
    "\n",
    "If you have any questions about this tutorial, please contact Philip Casey - [pcasey@stcnet.com](pcasey@stcnet.com)\n"
   ]
  }
 ],
 "metadata": {
  "kernelspec": {
   "display_name": "Python 3 (ipykernel)",
   "language": "python",
   "name": "python3"
  },
  "language_info": {
   "codemirror_mode": {
    "name": "ipython",
    "version": 3
   },
   "file_extension": ".py",
   "mimetype": "text/x-python",
   "name": "python",
   "nbconvert_exporter": "python",
   "pygments_lexer": "ipython3",
   "version": "3.9.7"
  }
 },
 "nbformat": 4,
 "nbformat_minor": 5
}
